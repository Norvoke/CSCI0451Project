{
 "cells": [
  {
   "cell_type": "code",
   "execution_count": 10,
   "id": "e9cc816c-c8b8-4719-acac-7a76aaff7e39",
   "metadata": {},
   "outputs": [],
   "source": [
    "from urllib.request import urlopen\n",
    "import joblib\n",
    "import pandas as pd\n",
    "import numpy as np\n",
    "from sklearn.feature_extraction.text import CountVectorizer\n",
    "from sklearn.preprocessing import MultiLabelBinarizer\n",
    "from sklearn.model_selection import train_test_split\n",
    "from sklearn.ensemble import RandomForestClassifier\n",
    "from sklearn.metrics import classification_report\n",
    "\n",
    "model = joblib.load(\"./Model_compressed.joblib\")\n",
    "vectorizer = joblib.load(\"./Vectorizer_compressed.joblib\")\n",
    "mlb = joblib.load(\"./MLB_compressed.joblib\")"
   ]
  },
  {
   "cell_type": "code",
   "execution_count": 14,
   "id": "79883f7c-d237-48f2-889c-e82a14ccb488",
   "metadata": {},
   "outputs": [
    {
     "name": "stdin",
     "output_type": "stream",
     "text": [
      "Enter a verb:  ЛЮБЛЮ\n"
     ]
    },
    {
     "data": {
      "text/plain": [
       "('', '1per', 'VERB', 'impf', 'indc', 'tran sing')"
      ]
     },
     "execution_count": 14,
     "metadata": {},
     "output_type": "execute_result"
    }
   ],
   "source": [
    "def predict_attributes(verb):\n",
    "    verb_vectorized = vectorizer.transform([verb])\n",
    "    predicted_attributes = model.predict(verb_vectorized)\n",
    "    return mlb.inverse_transform(predicted_attributes)[0]\n",
    "\n",
    "input_verb = [str(input(\"Enter a verb: \"))]\n",
    "predict_attributes(str(input_verb))\n"
   ]
  },
  {
   "cell_type": "code",
   "execution_count": null,
   "id": "12583565-9b00-47dc-935c-40b9c09b021d",
   "metadata": {},
   "outputs": [],
   "source": []
  }
 ],
 "metadata": {
  "kernelspec": {
   "display_name": "Python 3 (ipykernel)",
   "language": "python",
   "name": "python3"
  },
  "language_info": {
   "codemirror_mode": {
    "name": "ipython",
    "version": 3
   },
   "file_extension": ".py",
   "mimetype": "text/x-python",
   "name": "python",
   "nbconvert_exporter": "python",
   "pygments_lexer": "ipython3",
   "version": "3.9.13"
  }
 },
 "nbformat": 4,
 "nbformat_minor": 5
}
